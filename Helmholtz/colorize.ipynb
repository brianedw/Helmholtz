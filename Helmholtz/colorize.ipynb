{
 "cells": [
  {
   "cell_type": "code",
   "execution_count": 239,
   "metadata": {
    "collapsed": false
   },
   "outputs": [],
   "source": [
    "import numpy as np\n",
    "from matplotlib.colors import hsv_to_rgb"
   ]
  },
  {
   "cell_type": "code",
   "execution_count": 240,
   "metadata": {
    "collapsed": false
   },
   "outputs": [],
   "source": [
    "def colorizeArray(array2D, min_max=(-1, 1), colors=[(255,0,0), (255,255,255), (0,0,255)], \n",
    "                  preFunc=(lambda x: x)):\n",
    "    colorArray = np.array(colors)\n",
    "    minVal, maxVal = min_max\n",
    "    nColors = colorArray.shape[0]\n",
    "    array_F = preFunc(array2D)\n",
    "    rescaledX = np.clip((array_F-minVal)/(maxVal-minVal),0,1) # Puts array in range [0,1]\n",
    "    cPos = rescaledX*(nColors-1) # finds its position in the color array.\n",
    "    iLow = np.clip(np.floor(cPos).astype(np.uint8), 0, nColors - 2)\n",
    "    iFrac = cPos - iLow\n",
    "    lowColors = np.take(colorArray, iLow, axis=0)\n",
    "    highColors = np.take(colorArray, iLow+1, axis=0)\n",
    "    iFrac3D = np.expand_dims(iFrac, axis=2)\n",
    "    outColor = np.round(lowColors*(1 - iFrac3D) + highColors*(iFrac3D)).astype(np.uint8)\n",
    "    return outColor"
   ]
  },
  {
   "cell_type": "code",
   "execution_count": 241,
   "metadata": {
    "collapsed": false
   },
   "outputs": [
    {
     "data": {
      "text/plain": [
       "array([[[255,   0,   0],\n",
       "        [ 26,   0,   0],\n",
       "        [ 26,   0,   0],\n",
       "        [255,   0,   0],\n",
       "        [255,   0,   0]],\n",
       "\n",
       "       [[255,   0,   0],\n",
       "        [ 26,   0,   0],\n",
       "        [ 26,   0,   0],\n",
       "        [255,   0,   0],\n",
       "        [255,   0,   0]]], dtype=uint8)"
      ]
     },
     "execution_count": 241,
     "metadata": {},
     "output_type": "execute_result"
    }
   ],
   "source": [
    "inArray = np.array([[-2, -0.1, 0.1, 1, 2],[-2, -0.1, 0.1, 1, 2]])\n",
    "colorizeArray(inArray, min_max=(0,1), \n",
    "              colors = [(0,0,0), (255, 0, 0)], \n",
    "              preFunc = lambda x: np.abs(x))"
   ]
  },
  {
   "cell_type": "code",
   "execution_count": 242,
   "metadata": {
    "collapsed": false
   },
   "outputs": [],
   "source": [
    "dims = (4,5)\n",
    "inArray = np.random.rand(*dims) + 1j*np.random.rand(*dims)"
   ]
  },
  {
   "cell_type": "code",
   "execution_count": 249,
   "metadata": {
    "collapsed": true
   },
   "outputs": [],
   "source": [
    "def colorizeComplexArray(inArray, maxRad=1, centerColor='white'):\n",
    "    angleNP = np.angle(inArray)/(2*np.pi) # on range [-.5, 0.5]\n",
    "    offset = np.sign(angleNP)/(-2) + 0.5\n",
    "    hue = angleNP + offset\n",
    "    mag = np.clip(np.abs(inArray)/maxRad, 0, 1)\n",
    "    ones = np.ones_like(hue, np.float)\n",
    "    if centerColor == 'black':\n",
    "        HSVChannel = np.array([hue, ones, mag])\n",
    "    elif centerColor == 'white':\n",
    "        HSVChannel = np.array([hue, mag, ones])\n",
    "    else:\n",
    "        print(\"centerColor must be in {'white', 'black'}\")\n",
    "    HSVFloat = np.dstack(HSVChannel)\n",
    "    rgbOut = np.floor(hsv_to_rgb(HSVFloat)*255.99).astype(np.uint8)\n",
    "    return rgbOut"
   ]
  },
  {
   "cell_type": "code",
   "execution_count": 248,
   "metadata": {
    "collapsed": false
   },
   "outputs": [
    {
     "data": {
      "text/plain": [
       "array([[[202, 255,   0],\n",
       "        [255, 137,   0],\n",
       "        [255, 148,   0],\n",
       "        [255, 188,   0],\n",
       "        [255,  11,   0]],\n",
       "\n",
       "       [[213, 255,   0],\n",
       "        [165, 255,   0],\n",
       "        [184, 255,   0],\n",
       "        [255, 247,   0],\n",
       "        [255,   6,   0]],\n",
       "\n",
       "       [[169, 255,   0],\n",
       "        [129, 255,   0],\n",
       "        [249, 255,   0],\n",
       "        [143, 255,   0],\n",
       "        [255, 172,   0]],\n",
       "\n",
       "       [[145, 255,   0],\n",
       "        [255, 147,   0],\n",
       "        [255, 139,   0],\n",
       "        [255, 182,   0],\n",
       "        [255,  53,   0]]], dtype=uint8)"
      ]
     },
     "execution_count": 248,
     "metadata": {},
     "output_type": "execute_result"
    }
   ],
   "source": [
    "colorizeComplexArray(inArray, maxRad=0.01, centerColor='white')"
   ]
  },
  {
   "cell_type": "code",
   "execution_count": null,
   "metadata": {
    "collapsed": true
   },
   "outputs": [],
   "source": []
  },
  {
   "cell_type": "code",
   "execution_count": null,
   "metadata": {
    "collapsed": true
   },
   "outputs": [],
   "source": []
  }
 ],
 "metadata": {
  "anaconda-cloud": {},
  "kernelspec": {
   "display_name": "Python [conda root]",
   "language": "python",
   "name": "conda-root-py"
  },
  "language_info": {
   "codemirror_mode": {
    "name": "ipython",
    "version": 3
   },
   "file_extension": ".py",
   "mimetype": "text/x-python",
   "name": "python",
   "nbconvert_exporter": "python",
   "pygments_lexer": "ipython3",
   "version": "3.5.2"
  }
 },
 "nbformat": 4,
 "nbformat_minor": 2
}
