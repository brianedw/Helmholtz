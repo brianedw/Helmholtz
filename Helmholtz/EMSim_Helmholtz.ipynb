{
 "cells": [
  {
   "cell_type": "code",
   "execution_count": 6,
   "metadata": {
    "collapsed": false,
    "run_control": {
     "frozen": false,
     "read_only": false
    }
   },
   "outputs": [],
   "source": [
    "x = [1,2,3]"
   ]
  },
  {
   "cell_type": "markdown",
   "metadata": {},
   "source": [
    "## Imports"
   ]
  },
  {
   "cell_type": "code",
   "execution_count": 9,
   "metadata": {
    "collapsed": false,
    "run_control": {
     "frozen": false,
     "read_only": false
    }
   },
   "outputs": [],
   "source": [
    "import math\n",
    "import numpy as np\n",
    "from numba import njit\n",
    "import numpy.linalg as dLA\n",
    "import scipy.sparse.linalg as sLA\n",
    "import scipy.sparse as sp\n",
    "import scipy.sparse.linalg as sLA\n",
    "from scipy.sparse.linalg import dsolve\n",
    "from scipy.sparse import csc_matrix\n",
    "import itertools\n",
    "import PIL\n",
    "from colorize import *"
   ]
  },
  {
   "cell_type": "code",
   "execution_count": 10,
   "metadata": {
    "collapsed": false,
    "run_control": {
     "frozen": false,
     "read_only": false
    }
   },
   "outputs": [],
   "source": [
    "from scipy.sparse.linalg import dsolve"
   ]
  },
  {
   "cell_type": "markdown",
   "metadata": {},
   "source": [
    "## Notes"
   ]
  },
  {
   "cell_type": "markdown",
   "metadata": {},
   "source": [
    "Notes on coodinate systems:\n",
    " - `(x, y)`: For display and specification.  Origin is at 0,0 in the lower left hand corner.\n",
    " - `(i, j)`: Location in matrix. i is row, j is column.  (i, j) = (y, x)"
   ]
  },
  {
   "cell_type": "markdown",
   "metadata": {},
   "source": [
    "## Function Library"
   ]
  },
  {
   "cell_type": "code",
   "execution_count": 11,
   "metadata": {
    "code_folding": [],
    "collapsed": false,
    "run_control": {
     "frozen": false,
     "read_only": false
    }
   },
   "outputs": [],
   "source": [
    "class EMSim:\n",
    "\n",
    "    def __init__(self, xyShape=(10, 10), WL0=20,\n",
    "                 epsStart=1. + 0.j, epsEnd=2. + 0.01j,\n",
    "                 varBox=((0, 0), (0, 0))):\n",
    "        xMax, yMax = xyShape\n",
    "        self.xyShape = xyShape\n",
    "        self.epsStart = epsStart\n",
    "        self.epsEnd = epsEnd\n",
    "        self.varBox = varBox\n",
    "        self.WL0 = WL0  # Size of wl0 in 'pixels'\n",
    "        self.margin = int(math.ceil(self.WL0))  # Size of PML in 'pixels'\n",
    "        self.xyFullShape = tuple(\n",
    "            x + 2 * self.margin for x in self.xyShape)  # shape with PML\n",
    "        self.k0 = 2 * np.pi / WL0  # k0, free-space avenumber.\n",
    "        self.initGeoFields()\n",
    "\n",
    "    def initGeoFields(self):\n",
    "        m = self.margin\n",
    "        (xMax, yMax) = self.xyFullShape\n",
    "        ijShape = (yMax, xMax)\n",
    "\n",
    "        # The three vars below are all views of the same data block\n",
    "        # (n,m,3) fields into PML\n",
    "        self.fullFields = np.zeros(ijShape, np.complex)\n",
    "        self.fields = self.fullFields[m:-m, m:-m]\n",
    "        self.fullFields1D = self.fullFields.ravel()  # fields with PML as 1D vector\n",
    "\n",
    "        # (n,m,3) fields into PML\n",
    "        self.fullGoal = np.zeros(ijShape, np.complex)\n",
    "        self.goal = self.fullGoal[m:-m, m:-m]\n",
    "        self.fullGoalMask = np.zeros(ijShape, np.uint8)\n",
    "        self.goalMask = self.fullGoalMask[m:-m, m:-m]\n",
    "\n",
    "        # (n,m,3) fields into PML\n",
    "        self.fullSources = np.zeros(ijShape, np.complex)\n",
    "        self.sources = self.fullSources[m:-m, m:-m]\n",
    "        self.fullSources1D = self.fullSources.ravel()  # fields with PML as 1D vector\n",
    "\n",
    "        # The three vars below are all views of the same data block\n",
    "        self.fullEps = np.full(ijShape, self.epsStart,\n",
    "                               np.complex)  # permittivity matrix\n",
    "        self.eps = self.fullEps[m:-m, m:-m]  # permittivity matrix\n",
    "        self.fullEps1D = self.fullEps.ravel()  # permittivity as 1D vector\n",
    "\n",
    "        ((xmin, xmax), (ymin, ymax)) = self.varBox\n",
    "        self.varEps = self.fullEps[m + ymin: m + ymax, m + xmin: m + xmax]\n",
    "\n",
    "        # The three vars below are all views of the same data block\n",
    "        # permeability matrix\n",
    "        self.fullMu = np.full(ijShape,  (1 - 0.j), np.complex)\n",
    "        self.mu = self.fullMu[m:-m, m:-m]\n",
    "        self.fullMu1D = self.fullMu.ravel()  # permeability as 1D vector\n",
    "\n",
    "        (self.fullSx, self.fullSy) = self.buildSArrays()\n",
    "        self.fullSx1D = self.fullSx.ravel()  # permeability as 1D vector\n",
    "        self.fullSy1D = self.fullSy.ravel()  # permeability as 1D vector\n",
    "\n",
    "    def buildSArrays(self):\n",
    "        margin = self.margin\n",
    "        WL0 = self.WL0\n",
    "\n",
    "        def s(x):\n",
    "            return(1 - (1.1) * (1 / WL0) * 6.413j * (x / margin)**4)\n",
    "        (xDim, yDim) = self.xyShape\n",
    "        sEdge = np.array([s(x) for x in range(1, margin + 1)])\n",
    "        middleEdgeX = np.ones(xDim, np.complex)\n",
    "        middleEdgeY = np.ones(yDim, np.complex)\n",
    "        ySizeFull = yDim + 2 * margin\n",
    "        xSizeFull = xDim + 2 * margin\n",
    "        sEdgeX = np.concatenate((sEdge[::-1], middleEdgeX, sEdge))\n",
    "        sEdgeY = np.concatenate((sEdge[::-1], middleEdgeY, sEdge))\n",
    "        sX = np.tile(sEdgeX, (ySizeFull, 1))\n",
    "        sY = np.tile(sEdgeY, (xSizeFull, 1)).transpose()\n",
    "        return (sX, sY)\n",
    "\n",
    "    def setPointSource(self, xy, val):\n",
    "        (x, y) = xy\n",
    "        self.sources[y, x] = val\n",
    "\n",
    "    def setGoalPoint(self, xy, val):\n",
    "        (x, y) = xy\n",
    "        self.goal[(y, x)] = val\n",
    "        self.goalMask[(y, x)] = 1\n",
    "\n",
    "    def getScore(self):\n",
    "        score = np.sum(np.abs(self.fields - self.goal)**2 * self.goalMask)\n",
    "        count = np.sum(self.goalMask)\n",
    "        aveError = score / count\n",
    "        return aveError\n",
    "\n",
    "    def getScoreAbs(self):\n",
    "        score = np.sum((np.abs(self.fields) - np.abs(self.goal))\n",
    "                       ** 2 * self.goalMask)\n",
    "        count = np.sum(self.goalMask)\n",
    "        aveError = score / count\n",
    "        return aveError\n",
    "\n",
    "    def setEpsPoint(self, xy, eps):\n",
    "        (x, y) = xy\n",
    "        self.eps[y, x] = eps\n",
    "\n",
    "    def setMaterialPoint(self, xy, mat):\n",
    "        (x, y) = xy\n",
    "        self.eps[y, x] = (1 - mat) * self.epsStart + mat * self.epsEnd\n",
    "\n",
    "    def setVarMat1D(self, matArray):\n",
    "        newEps = (1 - matArray) * self.epsStart + matArray * self.epsEnd\n",
    "        newEps2D = newEps.reshape(self.varEps.shape)\n",
    "        self.varEps[:] = newEps2D\n",
    "\n",
    "    def getVarMat1D(self):\n",
    "        arrayReal = np.real(self.varEps)\n",
    "        minRange = np.real(self.epsStart)\n",
    "        maxRange = np.real(self.epsEnd)\n",
    "        rescaled = (arrayReal - minRange) / \\\n",
    "            (maxRange - minRange)  # range is now [0, 1]\n",
    "        return rescaled.ravel()\n",
    "\n",
    "    def setVarMat2D(self, matArray):\n",
    "        newEps2D = (1 - matArray) * self.epsStart + matArray * self.epsEnd\n",
    "        self.varEps[:] = newEps2D\n",
    "\n",
    "    def getVarMat2D(self):\n",
    "        arrayReal = np.real(self.varEps)\n",
    "        minRange = np.real(self.epsStart)\n",
    "        maxRange = np.real(self.epsEnd)\n",
    "        rescaled = (arrayReal - minRange) / \\\n",
    "            (maxRange - minRange)  # range is now [0, 1]\n",
    "        return rescaled\n",
    "\n",
    "    def visualizeMaterial(self, maxVal=2, zoom=3):\n",
    "        minVal = np.real(self.epsStart)\n",
    "        maxVal = np.real(self.epsEnd)\n",
    "        pixArray = colorizeArray(self.eps[::-1], min_max=(minVal, maxVal),\n",
    "                                 colors=([210, 210, 180], [255, 199, 0]),\n",
    "                                 preFunc=lambda x: np.real(x))\n",
    "        zoom = 3\n",
    "        image = PIL.Image.fromarray(pixArray)\n",
    "        (ySize, xSize) = pixArray.shape[0:2]\n",
    "        imageBig = image.resize(\n",
    "            (ySize * zoom, xSize * zoom), PIL.Image.NEAREST)\n",
    "        return imageBig\n",
    "\n",
    "    def visualizeSources(self, zoom=3):\n",
    "        maxRange = np.max(np.abs(self.sources))\n",
    "        pixArray = colorizeComplexArray(\n",
    "            self.sources[::-1], maxRad=maxRange, centerColor='black')\n",
    "        image = PIL.Image.fromarray(pixArray)\n",
    "        (ySize, xSize) = pixArray.shape[0:2]\n",
    "        imageBig = image.resize(\n",
    "            (ySize * zoom, xSize * zoom), PIL.Image.NEAREST)\n",
    "        return imageBig\n",
    "\n",
    "    def visualizeGoal(self, zoom=3):\n",
    "        maxRange = np.max(np.abs(self.goal))\n",
    "        pixArray = colorizeComplexArray(\n",
    "            self.goal[::-1], maxRad=maxRange, centerColor='black')\n",
    "        image = PIL.Image.fromarray(pixArray)\n",
    "        (ySize, xSize) = pixArray.shape[0:2]\n",
    "        imageBig = image.resize(\n",
    "            (ySize * zoom, xSize * zoom), PIL.Image.NEAREST)\n",
    "        return imageBig\n",
    "\n",
    "    def visualizeFields(self, zoom=3, maxRange=1):\n",
    "        maxRange = np.max(np.abs(self.fields))\n",
    "        pixArray = colorizeComplexArray(\n",
    "            self.fields[::-1], maxRad=maxRange, centerColor='black')\n",
    "        image = PIL.Image.fromarray(pixArray)\n",
    "        (ySize, xSize) = pixArray.shape[0:2]\n",
    "        imageBig = image.resize(\n",
    "            (ySize * zoom, xSize * zoom), PIL.Image.NEAREST)\n",
    "        return imageBig\n",
    "\n",
    "    def visualizeFieldsMag(self, zoom=3, maxRange=1):\n",
    "        maxRange = np.max(np.abs(self.fields))\n",
    "        pixArray = colorizeArray(self.fields[::-1], min_max=(0, maxRange),\n",
    "                                 colors=([0, 0, 0], [255, 0, 0],\n",
    "                                         [255, 255, 255]),\n",
    "                                 preFunc=lambda x: np.abs(x))\n",
    "        image = PIL.Image.fromarray(pixArray)\n",
    "        (ySize, xSize) = pixArray.shape[0:2]\n",
    "        imageBig = image.resize(\n",
    "            (ySize * zoom, xSize * zoom), PIL.Image.NEAREST)\n",
    "        return imageBig\n",
    "\n",
    "    def visualizeFieldsMagWithAbsorber(self, zoom=3, maxRange=1):\n",
    "        maxRange = np.max(np.abs(self.fullFields))\n",
    "        pixArray = colorizeArray(self.fullFields[::-1], min_max=(0, maxRange),\n",
    "                                 colors=([0, 0, 0], [255, 0, 0],\n",
    "                                         [255, 255, 255]),\n",
    "                                 preFunc=lambda x: np.abs(x))\n",
    "        image = PIL.Image.fromarray(pixArray)\n",
    "        (ySize, xSize) = pixArray.shape[0:2]\n",
    "        imageBig = image.resize(\n",
    "            (ySize * zoom, xSize * zoom), PIL.Image.NEAREST)\n",
    "        return imageBig\n",
    "\n",
    "    def buildEquations(self):\n",
    "        (xMax, yMax) = self.xyFullShape\n",
    "        fShape = self.xyFullShape\n",
    "        k0 = self.k0\n",
    "        (rList, cList, vList) = allEqGen(fShape, self.fullEps, self.fullMu,\n",
    "                                         self.fullSx, self.fullSy, k0)\n",
    "        n = self.fullFields.size\n",
    "        self.M = sp.coo_matrix((vList, (rList, cList)), (n, n))\n",
    "\n",
    "    def solve(self):\n",
    "        B = self.fullSources1D\n",
    "        X = dsolve.spsolve(csc_matrix(self.M), B)\n",
    "        self.fullFields1D[:] = X"
   ]
  },
  {
   "cell_type": "code",
   "execution_count": 12,
   "metadata": {
    "code_folding": [],
    "collapsed": false,
    "run_control": {
     "frozen": false,
     "read_only": false
    }
   },
   "outputs": [],
   "source": [
    "@njit\n",
    "def EzInd(xy, xyFullShape):\n",
    "    (xMax, yMax) = xyFullShape\n",
    "    (x, y) = xy\n",
    "    (xWrap, yWrap) = (x % xMax, y % yMax)\n",
    "    (i, j) = (yWrap, xWrap)\n",
    "    return j + (i * xMax)"
   ]
  },
  {
   "cell_type": "code",
   "execution_count": 13,
   "metadata": {
    "collapsed": false,
    "run_control": {
     "frozen": false,
     "read_only": false
    }
   },
   "outputs": [],
   "source": [
    "@njit\n",
    "def MakeEzEq(xy, shape, eps, mu, sx, sy, k0):\n",
    "    \"\"\"\n",
    "    Generates an equation for the discretized form of \n",
    "        Lap(E) - k0^2 mu eps E = 0\n",
    "    Note, when eps = PEC, signified by any im(eps) <= -1000, the equation becomes\n",
    "        E = 0\n",
    "    \"\"\"\n",
    "    eqNum = EzInd(xy, shape)\n",
    "    (x, y) = xy\n",
    "    delta = (1. + 0.j)\n",
    "    # Calculate Coefficients\n",
    "    cEz = -1. + 0j  # when brought to the RHS of the EQ\n",
    "    k = (eps**0.5 * mu**0.5) * k0\n",
    "\n",
    "    cX = 1 / ((k0 * sx * delta)**2 * eps * mu)\n",
    "    cY = 1 / ((k0 * sy * delta)**2 * eps * mu)\n",
    "\n",
    "    (cEzp0, cEzn0, cEz0p, cEz0n, cEz00) = (\n",
    "        cX, cX, cY, cY, -2 * cX - 2 * cY + 1)\n",
    "    # Calculate Indices\n",
    "    (iEzp0, iEzn0, iEz0p, iEz0n, iEz00) = (EzInd((x + 1, y), shape), EzInd((x - 1, y), shape),\n",
    "                                           EzInd(\n",
    "                                               (x, y + 1), shape), EzInd((x, y - 1), shape),\n",
    "                                           EzInd((x, y), shape))\n",
    "    # Build and return sparse equation additions\n",
    "    rowArray = (eqNum, eqNum, eqNum, eqNum, eqNum)\n",
    "    colArray = (iEzp0, iEzn0, iEz0p, iEz0n, iEz00)\n",
    "    coeffArray = (cEzp0 / sy, cEzn0 / sy, cEz0p / sx, cEz0n / sx, cEz00)\n",
    "    return (rowArray, colArray, coeffArray)"
   ]
  },
  {
   "cell_type": "code",
   "execution_count": 14,
   "metadata": {
    "code_folding": [],
    "collapsed": false,
    "run_control": {
     "frozen": false,
     "read_only": false
    }
   },
   "outputs": [],
   "source": [
    "@njit\n",
    "def allEqGen(fShape, epsArr, muArr, sxArr, syArr, k0):\n",
    "    rowCoeffs = []\n",
    "    colCoeffs = []\n",
    "    valCoeffs = []\n",
    "    (xMax, yMax) = fShape\n",
    "    for y in range(yMax):\n",
    "        for x in range(xMax):\n",
    "            xy = (x, y)\n",
    "            eps = epsArr[y, x]\n",
    "            mu = muArr[y, x]\n",
    "            sx = sxArr[y, x]\n",
    "            sy = syArr[y, x]\n",
    "            (newRow0, newCol0, newVal0) = MakeEzEq(\n",
    "                xy, fShape, eps, mu, sx, sy, k0)\n",
    "            rowCoeffs.extend(newRow0)\n",
    "            colCoeffs.extend(newCol0)\n",
    "            valCoeffs.extend(newVal0)\n",
    "    return (rowCoeffs, colCoeffs, valCoeffs)"
   ]
  },
  {
   "cell_type": "markdown",
   "metadata": {},
   "source": []
  },
  {
   "cell_type": "code",
   "execution_count": null,
   "metadata": {
    "collapsed": false,
    "run_control": {
     "frozen": false,
     "read_only": false
    }
   },
   "outputs": [],
   "source": []
  }
 ],
 "metadata": {
  "anaconda-cloud": {},
  "kernelspec": {
   "display_name": "Python [default]",
   "language": "python",
   "name": "python3"
  },
  "language_info": {
   "codemirror_mode": {
    "name": "ipython",
    "version": 3
   },
   "file_extension": ".py",
   "mimetype": "text/x-python",
   "name": "python",
   "nbconvert_exporter": "python",
   "pygments_lexer": "ipython3",
   "version": "3.5.2"
  },
  "latex_envs": {
   "bibliofile": "biblio.bib",
   "cite_by": "apalike",
   "current_citInitial": 1,
   "eqLabelWithNumbers": true,
   "eqNumInitial": 0
  },
  "varInspector": {
   "cols": {
    "lenName": 16,
    "lenType": 16,
    "lenVar": 40
   },
   "kernels_config": {
    "python": {
     "delete_cmd_postfix": "",
     "delete_cmd_prefix": "del ",
     "library": "var_list.py",
     "varRefreshCmd": "print(var_dic_list())"
    },
    "r": {
     "delete_cmd_postfix": ") ",
     "delete_cmd_prefix": "rm(",
     "library": "var_list.r",
     "varRefreshCmd": "cat(var_dic_list()) "
    }
   },
   "oldHeight": 122,
   "position": {
    "height": "434px",
    "left": "1550px",
    "right": "20px",
    "top": "120px",
    "width": "351px"
   },
   "types_to_exclude": [
    "module",
    "function",
    "builtin_function_or_method",
    "instance",
    "_Feature"
   ],
   "varInspector_section_display": "block",
   "window_display": true
  }
 },
 "nbformat": 4,
 "nbformat_minor": 2
}
