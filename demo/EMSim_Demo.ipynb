{
 "cells": [
  {
   "cell_type": "markdown",
   "metadata": {},
   "source": [
    "## Imports"
   ]
  },
  {
   "cell_type": "code",
   "execution_count": 1,
   "metadata": {
    "code_folding": [
     0
    ],
    "collapsed": false
   },
   "outputs": [],
   "source": [
    "def addCodeDirToPath(codeDirSnippet):\n",
    "    # This snippet will make sure code directory is in Python search path.  It drills up from \n",
    "    # the current working directory until the first directory in codeDirSnippet is found.  It\n",
    "    # then builds a new full path that points to codeDirSnippet and appends it to Python's path.\n",
    "    # It is designed such that it only runs once by only running if 'haveAddedCodeDirToPath' is\n",
    "    # defined.\n",
    "    global haveAddedCodeDirToPath\n",
    "    try: #This is a run-once hack.  \n",
    "        haveAddedCodeDirToPath\n",
    "    except NameError:\n",
    "        haveAddedCodeDirToPath = 'yes'\n",
    "        codeDirSnippetList = codeDirSnippet.split(os.path.sep)\n",
    "        codeDirList = list(filter(lambda x: x!='', codeDirSnippetList))\n",
    "        targetDir = codeDirList[0]\n",
    "        startPath = os.path.abspath(os.path.curdir)\n",
    "        while True:\n",
    "            (path, lastDir) = os.path.split(startPath)\n",
    "            if lastDir != targetDir:\n",
    "                startPath = path\n",
    "            else:\n",
    "                break\n",
    "        codePath = os.path.join(path, *codeDirList)\n",
    "        print('added:', codePath)\n",
    "        sys.path.append(codePath)"
   ]
  },
  {
   "cell_type": "code",
   "execution_count": 2,
   "metadata": {
    "collapsed": false
   },
   "outputs": [
    {
     "name": "stdout",
     "output_type": "stream",
     "text": [
      "added: C:\\Users\\brian\\Desktop\\CIS519_FinProj\\cis519proj\\code\\MachLearnInvDesign\\MachLearnInvDesign\n"
     ]
    }
   ],
   "source": [
    "import sys, os\n",
    "codePath = os.path.join('code','MachLearnInvDesign','MachLearnInvDesign')\n",
    "addCodeDirToPath(codePath)"
   ]
  },
  {
   "cell_type": "code",
   "execution_count": 3,
   "metadata": {
    "collapsed": true
   },
   "outputs": [],
   "source": [
    "import traceback\n",
    "import numpy as np\n",
    "from importlib import reload  # Python 3.4+ only."
   ]
  },
  {
   "cell_type": "markdown",
   "metadata": {},
   "source": [
    "# Demo"
   ]
  },
  {
   "cell_type": "code",
   "execution_count": 4,
   "metadata": {
    "collapsed": false
   },
   "outputs": [],
   "source": [
    "import EMSim_Helmholtz\n",
    "reload(EMSim_Helmholtz);"
   ]
  },
  {
   "cell_type": "markdown",
   "metadata": {},
   "source": [
    "Begin by defining a simulation.\n",
    "  - `xyShape`: The simulation has an integer number of points in the x and y directions.\n",
    "  - `WL0`: The number of pixels per wavelength\n",
    "  - `epsStart`: The material constant which defines no material (mat = 0.0)\n",
    "  - `epsEnd`: The material constant which defines full material (mat = 1.0)\n",
    "  - `varBox`: The region in simulation which is to be optimized ((xMin, xMax), (yMin, yMax))"
   ]
  },
  {
   "cell_type": "code",
   "execution_count": 5,
   "metadata": {
    "collapsed": false
   },
   "outputs": [],
   "source": [
    "sim = EMSim_Helmholtz.EMSim(xyShape=(50, 50), WL0=10, epsStart=1., epsEnd=2., varBox=((20,30),(20,30)))"
   ]
  },
  {
   "cell_type": "markdown",
   "metadata": {},
   "source": [
    "The geometry consists of four absorbing walls.  The inner region can be built with various structures.  The 'permittivity', known by the symbol epsilon $\\epsilon$, defines the material value.  The permittivity is a generally a complex number.  Air has a permittivity of 1.0.  Glass has a permittivity of ~2.  Absorbing materials have permittivities which have a negative imaginary part.\n",
    "\n",
    "Below we define a disk of glass and visualize it."
   ]
  },
  {
   "cell_type": "code",
   "execution_count": 6,
   "metadata": {
    "collapsed": false
   },
   "outputs": [],
   "source": [
    "for x in range(50):\n",
    "    for y in range(50):\n",
    "        if (x-25)**2 + (y-25)**2 < 10**2:\n",
    "            sim.setEpsPoint((x,y), 2.)"
   ]
  },
  {
   "cell_type": "code",
   "execution_count": 7,
   "metadata": {
    "collapsed": false
   },
   "outputs": [
    {
     "data": {
      "image/png": "[encoded data removed]",
      "text/plain": [
       "<PIL.Image.Image image mode=RGB size=150x150 at 0x1C42D3A9828>"
      ]
     },
     "execution_count": 7,
     "metadata": {},
     "output_type": "execute_result"
    }
   ],
   "source": [
    "sim.visualizeMaterial()"
   ]
  },
  {
   "cell_type": "markdown",
   "metadata": {},
   "source": [
    "Our simulation needs energy sources.  These are defined in a similar point-by-point fashion.  Note that the sources are defined with a complex number.  Values of `[1., 1.j, -1., -1.j]` all have the same magnitude, but are 90deg off of each other in phase. "
   ]
  },
  {
   "cell_type": "code",
   "execution_count": 8,
   "metadata": {
    "collapsed": false
   },
   "outputs": [],
   "source": [
    "for x in range(0,20):\n",
    "    sim.setPointSource((x, 21-x), 1.)\n",
    "for x in range(0,20):\n",
    "    sim.setPointSource((x+1, 21-x), -1.)"
   ]
  },
  {
   "cell_type": "code",
   "execution_count": 9,
   "metadata": {
    "collapsed": false
   },
   "outputs": [
    {
     "data": {
      "image/png": "[encoded data removed]",
      "text/plain": [
       "<PIL.Image.Image image mode=RGB size=150x150 at 0x1C42D61DFD0>"
      ]
     },
     "execution_count": 9,
     "metadata": {},
     "output_type": "execute_result"
    }
   ],
   "source": [
    "sim.visualizeSources()"
   ]
  },
  {
   "cell_type": "markdown",
   "metadata": {},
   "source": [
    "These sources will generate waves which we will calculate in a second.  First we must define what we which they would do.  This is done by defining the complex value wave value at a series of points in space.  How well a design does will be depend on how close the fields are to the goal values at the designated points."
   ]
  },
  {
   "cell_type": "code",
   "execution_count": 10,
   "metadata": {
    "collapsed": false
   },
   "outputs": [],
   "source": [
    "sim.setGoalPoint((35,35), 1.+0.j)"
   ]
  },
  {
   "cell_type": "code",
   "execution_count": 11,
   "metadata": {
    "collapsed": false
   },
   "outputs": [
    {
     "data": {
      "image/png": "[encoded data removed]",
      "text/plain": [
       "<PIL.Image.Image image mode=RGB size=150x150 at 0x1C42D53C550>"
      ]
     },
     "execution_count": 11,
     "metadata": {},
     "output_type": "execute_result"
    }
   ],
   "source": [
    "sim.visualizeGoal()"
   ]
  },
  {
   "cell_type": "markdown",
   "metadata": {},
   "source": [
    "We then build all of the equations which define the physics and solve it."
   ]
  },
  {
   "cell_type": "code",
   "execution_count": 12,
   "metadata": {
    "collapsed": false
   },
   "outputs": [],
   "source": [
    "sim.buildEquations()\n",
    "sim.solve()"
   ]
  },
  {
   "cell_type": "markdown",
   "metadata": {},
   "source": [
    "Not much appeared to happen, however internal values matrices were populated with the field solution.  If it went poorly, you might get an error message saying `\"FAILED!!!\"`.  We can observ the field.  Notice the wave eminating from our line of sources in the lower left corner.  Also note how our glass disk focuses the wave to a point near the upper right hand corner."
   ]
  },
  {
   "cell_type": "code",
   "execution_count": 13,
   "metadata": {
    "collapsed": false
   },
   "outputs": [
    {
     "data": {
      "image/png": "[encoded data removed]",
      "text/plain": [
       "<PIL.Image.Image image mode=RGB size=150x150 at 0x1C42D669CC0>"
      ]
     },
     "execution_count": 13,
     "metadata": {},
     "output_type": "execute_result"
    }
   ],
   "source": [
    "sim.visualizeFields()"
   ]
  },
  {
   "cell_type": "code",
   "execution_count": 14,
   "metadata": {
    "collapsed": false
   },
   "outputs": [
    {
     "data": {
      "image/png": "[encoded data removed]",
      "text/plain": [
       "<PIL.Image.Image image mode=RGB size=150x150 at 0x1C42AF49198>"
      ]
     },
     "execution_count": 14,
     "metadata": {},
     "output_type": "execute_result"
    }
   ],
   "source": [
    "sim.visualizeFieldsMag()"
   ]
  },
  {
   "cell_type": "markdown",
   "metadata": {},
   "source": [
    "We can compute the overlap with our goal points.  Lower scores are better."
   ]
  },
  {
   "cell_type": "code",
   "execution_count": 15,
   "metadata": {
    "collapsed": false
   },
   "outputs": [
    {
     "data": {
      "text/plain": [
       "0.8253160922704968"
      ]
     },
     "execution_count": 15,
     "metadata": {},
     "output_type": "execute_result"
    }
   ],
   "source": [
    "sim.getScore()"
   ]
  },
  {
   "cell_type": "markdown",
   "metadata": {},
   "source": [
    "Now we can replace the \"variable\" portion of our design with something else.  This is the part inside `varBox` defined at instantiation.\n",
    "\n",
    "While the material permittivity is a complex number, this doesn not lend itself to machine learning weight vectors.  Rather, we will use `getVarMat1D()` to obtain a 1D vector of values on the range [0,1] where 0 represents `epsStart` and 1 represents `epsEnd`.\n",
    "\n",
    "Let's begin by probing the size of the array and then building a list of random values of similar size."
   ]
  },
  {
   "cell_type": "code",
   "execution_count": 16,
   "metadata": {
    "collapsed": false
   },
   "outputs": [],
   "source": [
    "varSize = sim.getVarMat1D().size\n",
    "newW = np.random.rand(varSize);"
   ]
  },
  {
   "cell_type": "markdown",
   "metadata": {},
   "source": [
    "Now let's use that weight vector to alter the design."
   ]
  },
  {
   "cell_type": "code",
   "execution_count": 17,
   "metadata": {
    "collapsed": false
   },
   "outputs": [],
   "source": [
    "sim.setVarMat1D(newW)"
   ]
  },
  {
   "cell_type": "code",
   "execution_count": null,
   "metadata": {
    "collapsed": true
   },
   "outputs": [],
   "source": [
    "sim.v"
   ]
  },
  {
   "cell_type": "code",
   "execution_count": 18,
   "metadata": {
    "collapsed": false
   },
   "outputs": [
    {
     "data": {
      "image/png": "[encoded data removed]",
      "text/plain": [
       "<PIL.Image.Image image mode=RGB size=150x150 at 0x1C42D6C6E10>"
      ]
     },
     "execution_count": 18,
     "metadata": {},
     "output_type": "execute_result"
    }
   ],
   "source": [
    "sim.visualizeMaterial()"
   ]
  },
  {
   "cell_type": "markdown",
   "metadata": {},
   "source": [
    "... and solve it..."
   ]
  },
  {
   "cell_type": "code",
   "execution_count": 29,
   "metadata": {
    "collapsed": false
   },
   "outputs": [],
   "source": [
    "sim.buildEquations()\n",
    "sim.solve()"
   ]
  },
  {
   "cell_type": "code",
   "execution_count": 30,
   "metadata": {
    "collapsed": false
   },
   "outputs": [
    {
     "data": {
      "image/png": "[encoded data removed]",
      "text/plain": [
       "<PIL.Image.Image image mode=RGB size=150x150 at 0x1E8B98497F0>"
      ]
     },
     "execution_count": 30,
     "metadata": {},
     "output_type": "execute_result"
    }
   ],
   "source": [
    "sim.visualizeFields()"
   ]
  },
  {
   "cell_type": "markdown",
   "metadata": {},
   "source": [
    "... and score it."
   ]
  },
  {
   "cell_type": "code",
   "execution_count": 31,
   "metadata": {
    "collapsed": false
   },
   "outputs": [
    {
     "data": {
      "text/plain": [
       "0.66696671102494298"
      ]
     },
     "execution_count": 31,
     "metadata": {},
     "output_type": "execute_result"
    }
   ],
   "source": [
    "sim.getScore()"
   ]
  },
  {
   "cell_type": "markdown",
   "metadata": {},
   "source": [
    "And this design appears to actually work better."
   ]
  }
 ],
 "metadata": {
  "anaconda-cloud": {},
  "kernelspec": {
   "display_name": "Python [default]",
   "language": "python",
   "name": "python3"
  },
  "language_info": {
   "codemirror_mode": {
    "name": "ipython",
    "version": 3
   },
   "file_extension": ".py",
   "mimetype": "text/x-python",
   "name": "python",
   "nbconvert_exporter": "python",
   "pygments_lexer": "ipython3",
   "version": "3.5.2"
  }
 },
 "nbformat": 4,
 "nbformat_minor": 2
}
